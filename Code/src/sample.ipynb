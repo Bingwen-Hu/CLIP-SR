{
 "cells": [
  {
   "cell_type": "code",
   "execution_count": 2,
   "metadata": {},
   "outputs": [
    {
     "name": "stderr",
     "output_type": "stream",
     "text": [
      "/usr/local/lib/python3.8/dist-packages/tqdm/auto.py:22: TqdmWarning: IProgress not found. Please update jupyter and ipywidgets. See https://ipywidgets.readthedocs.io/en/stable/user_install.html\n",
      "  from .autonotebook import tqdm as notebook_tqdm\n"
     ]
    }
   ],
   "source": [
    "import torch\n",
    "import os\n",
    "from PIL import Image\n",
    "import clip\n",
    "import os.path as osp\n",
    "import os, sys\n",
    "import torchvision.utils as vutils\n",
    "import torchvision.transforms as transforms\n",
    "\n",
    "sys.path.insert(0, '../')\n",
    "from lib.modules import sample_one_batch as sample, test as test, train as train\n",
    "from lib.datasets import get_fix_data\n",
    "from PIL import Image\n",
    "import numpy as np\n",
    "\n",
    "from lib.utils import load_model_weights,mkdir_p\n",
    "from models.GALIP import NetG, CLIP_TXT_ENCODER"
   ]
  },
  {
   "cell_type": "code",
   "execution_count": 3,
   "metadata": {},
   "outputs": [],
   "source": [
    "device = 'cpu' # 'cpu' # 'cuda:0'\n",
    "CLIP_text = \"ViT-B/32\"\n",
    "clip_model, preprocess = clip.load(\"ViT-B/32\", device=device)\n",
    "clip_model = clip_model.eval()"
   ]
  },
  {
   "cell_type": "code",
   "execution_count": 4,
   "metadata": {},
   "outputs": [],
   "source": [
    "text_encoder = CLIP_TXT_ENCODER(clip_model).to(device)\n",
    "netG = NetG(64, 512, 512, 256, 3, False, clip_model).to(device)\n",
    "path = '../saved_models/pretrained/pre_cc12m.pth'\n",
    "path = '/opt/data/private/workspace/GALIP-main/code/saved_models/models/state_epoch_1500.pth'\n",
    "checkpoint = torch.load(path, map_location=torch.device('cpu'))\n",
    "netG = load_model_weights(netG, checkpoint['model']['netG'], multi_gpus=False)"
   ]
  },
  {
   "cell_type": "code",
   "execution_count": 5,
   "metadata": {},
   "outputs": [],
   "source": [
    "\n",
    "batch_size = 8\n",
    "noise = torch.randn((batch_size, 100)).to(device)\n",
    "norm = transforms.Compose([\n",
    "            transforms.ToTensor(),\n",
    "            transforms.Normalize((0.5, 0.5, 0.5), (0.5, 0.5, 0.5)),\n",
    "            ])\n",
    "image_transform = transforms.Compose([\n",
    "            transforms.Resize(int(256 * 76 / 64)),\n",
    "            transforms.RandomCrop(256),\n",
    "            transforms.RandomHorizontalFlip(),\n",
    "            ])\n",
    "def get_imgs(img_path, bbox=None, transform=image_transform, normalize=norm):\n",
    "    img = Image.open(img_path).convert('RGB')\n",
    "    width, height = img.size\n",
    "    if bbox is not None:\n",
    "        r = int(np.maximum(bbox[2], bbox[3]) * 0.75)\n",
    "        center_x = int((2 * bbox[0] + bbox[2]) / 2)\n",
    "        center_y = int((2 * bbox[1] + bbox[3]) / 2)\n",
    "        y1 = np.maximum(0, center_y - r)\n",
    "        y2 = np.minimum(height, center_y + r)\n",
    "        x1 = np.maximum(0, center_x - r)\n",
    "        x2 = np.minimum(width, center_x + r)\n",
    "        img = img.crop([x1, y1, x2, y2])\n",
    "    if transform is not None:\n",
    "        img = transform(img)\n",
    "    if normalize is not None:\n",
    "        img = normalize(img)\n",
    "    return img\n"
   ]
  },
  {
   "cell_type": "code",
   "execution_count": 6,
   "metadata": {},
   "outputs": [],
   "source": [
    "img_path=\"/opt/data/private/workspace/GALIP-main/code/imgs/bird/train/GALIP_nf64_normal_bird_256_2023_03_15_13_41_13/LR.png\"\n",
    "LR=get_imgs(img_path, bbox=None, transform=None, normalize=norm)\n",
    "\n",
    "\n",
    "captions = ['Line drawing illustration of a kawaii cute ghost.']"
   ]
  },
  {
   "cell_type": "code",
   "execution_count": 7,
   "metadata": {},
   "outputs": [],
   "source": [
    "mkdir_p('./samples')"
   ]
  },
  {
   "cell_type": "code",
   "execution_count": 8,
   "metadata": {},
   "outputs": [
    {
     "name": "stdout",
     "output_type": "stream",
     "text": [
      "torch.Size([8, 512])\n"
     ]
    },
    {
     "ename": "UnboundLocalError",
     "evalue": "local variable 'LR' referenced before assignment",
     "output_type": "error",
     "traceback": [
      "\u001b[0;31m---------------------------------------------------------------------------\u001b[0m",
      "\u001b[0;31mUnboundLocalError\u001b[0m                         Traceback (most recent call last)",
      "Cell \u001b[0;32mIn[8], line 12\u001b[0m\n\u001b[1;32m     10\u001b[0m \u001b[39mprint\u001b[39m(sent_emb\u001b[39m.\u001b[39mshape)\n\u001b[1;32m     11\u001b[0m exit(\u001b[39m0\u001b[39m)\n\u001b[0;32m---> 12\u001b[0m fake_imgs \u001b[39m=\u001b[39m netG(LR,sent_emb,\u001b[39meval\u001b[39;49m\u001b[39m=\u001b[39;49m\u001b[39mTrue\u001b[39;49;00m)\u001b[39m.\u001b[39mfloat()\n\u001b[1;32m     13\u001b[0m name \u001b[39m=\u001b[39m \u001b[39mf\u001b[39m\u001b[39m'\u001b[39m\u001b[39m{\u001b[39;00mcaptions[i]\u001b[39m.\u001b[39mreplace(\u001b[39m\"\u001b[39m\u001b[39m \u001b[39m\u001b[39m\"\u001b[39m,\u001b[39m \u001b[39m\u001b[39m\"\u001b[39m\u001b[39m-\u001b[39m\u001b[39m\"\u001b[39m)\u001b[39m}\u001b[39;00m\u001b[39m'\u001b[39m\n\u001b[1;32m     14\u001b[0m vutils\u001b[39m.\u001b[39msave_image(fake_imgs\u001b[39m.\u001b[39mdata, \u001b[39m'\u001b[39m\u001b[39m../samples/\u001b[39m\u001b[39m%s\u001b[39;00m\u001b[39m.png\u001b[39m\u001b[39m'\u001b[39m\u001b[39m%\u001b[39m(name), nrow\u001b[39m=\u001b[39m\u001b[39m8\u001b[39m, value_range\u001b[39m=\u001b[39m(\u001b[39m-\u001b[39m\u001b[39m1\u001b[39m, \u001b[39m1\u001b[39m), normalize\u001b[39m=\u001b[39m\u001b[39mTrue\u001b[39;00m)\n",
      "File \u001b[0;32m/usr/local/lib/python3.8/dist-packages/torch/nn/modules/module.py:1110\u001b[0m, in \u001b[0;36mModule._call_impl\u001b[0;34m(self, *input, **kwargs)\u001b[0m\n\u001b[1;32m   1106\u001b[0m \u001b[39m# If we don't have any hooks, we want to skip the rest of the logic in\u001b[39;00m\n\u001b[1;32m   1107\u001b[0m \u001b[39m# this function, and just call forward.\u001b[39;00m\n\u001b[1;32m   1108\u001b[0m \u001b[39mif\u001b[39;00m \u001b[39mnot\u001b[39;00m (\u001b[39mself\u001b[39m\u001b[39m.\u001b[39m_backward_hooks \u001b[39mor\u001b[39;00m \u001b[39mself\u001b[39m\u001b[39m.\u001b[39m_forward_hooks \u001b[39mor\u001b[39;00m \u001b[39mself\u001b[39m\u001b[39m.\u001b[39m_forward_pre_hooks \u001b[39mor\u001b[39;00m _global_backward_hooks\n\u001b[1;32m   1109\u001b[0m         \u001b[39mor\u001b[39;00m _global_forward_hooks \u001b[39mor\u001b[39;00m _global_forward_pre_hooks):\n\u001b[0;32m-> 1110\u001b[0m     \u001b[39mreturn\u001b[39;00m forward_call(\u001b[39m*\u001b[39;49m\u001b[39minput\u001b[39;49m, \u001b[39m*\u001b[39;49m\u001b[39m*\u001b[39;49mkwargs)\n\u001b[1;32m   1111\u001b[0m \u001b[39m# Do not call functions when jit is used\u001b[39;00m\n\u001b[1;32m   1112\u001b[0m full_backward_hooks, non_full_backward_hooks \u001b[39m=\u001b[39m [], []\n",
      "File \u001b[0;32m/opt/data/private/workspace/GALIP-main/code/src/../models/GALIP.py:263\u001b[0m, in \u001b[0;36mNetG.forward\u001b[0;34m(self, noise, c, eval)\u001b[0m\n\u001b[1;32m    257\u001b[0m \u001b[39mdef\u001b[39;00m \u001b[39mforward\u001b[39m(\u001b[39mself\u001b[39m, noise, c, \u001b[39meval\u001b[39m\u001b[39m=\u001b[39m\u001b[39mFalse\u001b[39;00m): \u001b[39m# x=noise, c=ent_emb\u001b[39;00m\n\u001b[1;32m    258\u001b[0m     \u001b[39mwith\u001b[39;00m torch\u001b[39m.\u001b[39mcuda\u001b[39m.\u001b[39mamp\u001b[39m.\u001b[39mautocast() \u001b[39mif\u001b[39;00m \u001b[39mself\u001b[39m\u001b[39m.\u001b[39mmixed_precision \u001b[39mand\u001b[39;00m \u001b[39mnot\u001b[39;00m \u001b[39meval\u001b[39m \u001b[39melse\u001b[39;00m dummy_context_mgr() \u001b[39mas\u001b[39;00m mp:\n\u001b[1;32m    259\u001b[0m \n\u001b[1;32m    260\u001b[0m         \u001b[39m# cond = torch.cat((noise, c), dim=1)\u001b[39;00m\n\u001b[1;32m    261\u001b[0m         \u001b[39m#noise(5,100),c(5,512)\u001b[39;00m\n\u001b[1;32m    262\u001b[0m         \u001b[39m#cond(5,612)\u001b[39;00m\n\u001b[0;32m--> 263\u001b[0m         \u001b[39mprint\u001b[39m(LR\u001b[39m.\u001b[39mshape)\n\u001b[1;32m    264\u001b[0m         \u001b[39mprint\u001b[39m(c\u001b[39m.\u001b[39mshape)\n\u001b[1;32m    265\u001b[0m         exit(\u001b[39m0\u001b[39m)\n",
      "\u001b[0;31mUnboundLocalError\u001b[0m: local variable 'LR' referenced before assignment"
     ]
    },
    {
     "ename": "",
     "evalue": "",
     "output_type": "error",
     "traceback": [
      "\u001b[1;31mThe Kernel crashed while executing code in the the current cell or a previous cell. Please review the code in the cell(s) to identify a possible cause of the failure. Click <a href='https://aka.ms/vscodeJupyterKernelCrash'>here</a> for more info. View Jupyter <a href='command:jupyter.viewOutput'>log</a> for further details."
     ]
    }
   ],
   "source": [
    "# generate from text\n",
    "with torch.no_grad():\n",
    "    for i in range(len(captions)):\n",
    "        caption = captions[i]\n",
    "        tokenized_text = clip.tokenize([caption]).to(device)\n",
    "      \n",
    "        sent_emb, word_emb = text_encoder(tokenized_text)\n",
    "        \n",
    "        sent_emb = sent_emb.repeat(batch_size,1)\n",
    "        print(sent_emb.shape)\n",
    "        exit(0)\n",
    "        fake_imgs = netG(LR,sent_emb,eval=True).float()\n",
    "        name = f'{captions[i].replace(\" \", \"-\")}'\n",
    "        vutils.save_image(fake_imgs.data, '../samples/%s.png'%(name), nrow=8, value_range=(-1, 1), normalize=True)"
   ]
  }
 ],
 "metadata": {
  "kernelspec": {
   "display_name": "Python 3",
   "language": "python",
   "name": "python3"
  },
  "language_info": {
   "codemirror_mode": {
    "name": "ipython",
    "version": 3
   },
   "file_extension": ".py",
   "mimetype": "text/x-python",
   "name": "python",
   "nbconvert_exporter": "python",
   "pygments_lexer": "ipython3",
   "version": "3.8.10"
  },
  "orig_nbformat": 4,
  "vscode": {
   "interpreter": {
    "hash": "31f2aee4e71d21fbe5cf8b01ff0e069b9275f58929596ceb00d14d90e3e16cd6"
   }
  }
 },
 "nbformat": 4,
 "nbformat_minor": 2
}
